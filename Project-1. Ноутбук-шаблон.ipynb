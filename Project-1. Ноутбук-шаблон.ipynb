{
 "cells": [
  {
   "cell_type": "markdown",
   "id": "42289889-bd57-434e-9637-d3e354756316",
   "metadata": {},
   "source": [
    "<center> <img src = https://raw.githubusercontent.com/AndreyRysistov/DatasetsForPandas/main/hh%20label.jpg alt=\"drawing\" style=\"width:400px;\">"
   ]
  },
  {
   "cell_type": "markdown",
   "id": "829cb75b-f14e-4ba8-9195-7ba929a7d656",
   "metadata": {
    "tags": []
   },
   "source": [
    "# <center> Проект: Анализ резюме из HeadHunter\n",
    "   "
   ]
  },
  {
   "cell_type": "code",
   "execution_count": 2,
   "id": "dccfde33-2452-43fb-a8a5-5c6ebc02a71d",
   "metadata": {},
   "outputs": [],
   "source": [
    "import pandas as pd\n",
    "import numpy as np\n",
    "import matplotlib.pyplot as plt\n",
    "import seaborn as sns\n",
    "import plotly.express as px"
   ]
  },
  {
   "cell_type": "markdown",
   "id": "0dc6476b-7a00-44f1-ac93-6e3baed33a29",
   "metadata": {},
   "source": [
    "# Исследование структуры данных"
   ]
  },
  {
   "cell_type": "markdown",
   "id": "889782b6-8d1c-410e-8920-e57f27917c64",
   "metadata": {},
   "source": [
    "1. Прочитайте данные с помощью библиотеки Pandas. Совет: перед чтением обратите внимание на разделитель внутри файла. "
   ]
  },
  {
   "cell_type": "code",
   "execution_count": 4,
   "id": "bc39e68e-ed02-4ee2-9235-7258a2f867a8",
   "metadata": {},
   "outputs": [],
   "source": [
    "#ваш код здесь\n",
    "hh_data = pd.read_csv('/Users/aleksejvolkov/Projects_VS_Code/IDE/data_set/dst-3.0_16_1_hh_database.csv', sep=';')"
   ]
  },
  {
   "cell_type": "markdown",
   "id": "b583485d-1f9e-494e-ada4-80ffff7c53d6",
   "metadata": {},
   "source": [
    "2. Выведите несколько первых (последних) строк таблицы, чтобы убедиться в том, что ваши данные не повреждены. Ознакомьтесь с признаками и их структурой."
   ]
  },
  {
   "cell_type": "code",
   "execution_count": null,
   "id": "5408c52c-3407-4a63-b25b-1aafa2322d28",
   "metadata": {},
   "outputs": [],
   "source": [
    "#ваш код здесь\n",
    "hh_data.head()"
   ]
  },
  {
   "cell_type": "markdown",
   "id": "a2bfff1f-c975-4bf6-84be-2185d79dcb76",
   "metadata": {},
   "source": [
    "3. Выведите основную информацию о числе непустых значений в столбцах и их типах в таблице."
   ]
  },
  {
   "cell_type": "markdown",
   "id": "41bb59f3-53cc-4a67-a5bc-bedf573955e4",
   "metadata": {},
   "source": [
    "4. Обратите внимание на информацию о числе непустых значений."
   ]
  },
  {
   "cell_type": "code",
   "execution_count": null,
   "id": "d286cf4c-707b-4cd2-9190-7ab3587d04a1",
   "metadata": {},
   "outputs": [],
   "source": [
    "#ваш код здесь\n",
    "hh_data.info()"
   ]
  },
  {
   "cell_type": "markdown",
   "id": "9a8a2181-6914-448b-85f1-38f5f18b8a93",
   "metadata": {},
   "source": [
    "5. Выведите основную статистическую информацию о столбцах.\n"
   ]
  },
  {
   "cell_type": "code",
   "execution_count": null,
   "id": "be4e9bd3-a4db-4a20-82fb-6b02fc2957e0",
   "metadata": {},
   "outputs": [],
   "source": [
    "#ваш код здесь\n",
    "hh_data.describe(include='object')"
   ]
  },
  {
   "cell_type": "markdown",
   "id": "8d62a9f3-f64e-4fe7-bdac-c4dffa16155e",
   "metadata": {},
   "source": [
    "# Преобразование данных"
   ]
  },
  {
   "cell_type": "markdown",
   "id": "93053d3d-b284-481a-9cf7-012d7014c0e0",
   "metadata": {},
   "source": [
    "1. Начнем с простого - с признака **\"Образование и ВУЗ\"**. Его текущий формат это: **<Уровень образования год выпуска ВУЗ специальность...>**. Например:\n",
    "* Высшее образование 2016 Московский авиационный институт (национальный исследовательский университет)...\n",
    "* Неоконченное высшее образование 2000  Балтийская государственная академия рыбопромыслового флота…\n",
    "Нас будет интересовать только уровень образования.\n",
    "\n",
    "Создайте с помощью функции-преобразования новый признак **\"Образование\"**, который должен иметь 4 категории: \"высшее\", \"неоконченное высшее\", \"среднее специальное\" и \"среднее\".\n",
    "\n",
    "Выполните преобразование, ответьте на контрольные вопросы и удалите признак \"Образование и ВУЗ\".\n",
    "\n",
    "Совет: обратите внимание на структуру текста в столбце **\"Образование и ВУЗ\"**. Гарантируется, что текущий уровень образования соискателя всегда находится в первых 2ух слов и начинается с заглавной буквы. Воспользуйтесь этим.\n",
    "\n",
    "*Совет: проверяйте полученные категории, например, с помощью метода unique()*\n"
   ]
  },
  {
   "cell_type": "code",
   "execution_count": 7,
   "id": "3f069da6-fdc9-4ae7-b514-fafe2675efd3",
   "metadata": {},
   "outputs": [],
   "source": [
    "#ваш код здесь\n",
    "# Функция-преобразования новый признак «Образование»\n",
    "def get_education(arg):\n",
    "  arg_splited = arg.split(' ')\n",
    "  N = len(arg_splited)\n",
    "  for i in range(N): \n",
    "    if arg_splited[i] == 'Высшее':\n",
    "      return 'Высшее'\n",
    "    if arg_splited[i] == 'Среднее' and arg_splited[i+1] == 'специальное':\n",
    "      return 'Среднее специальное'\n",
    "    if arg_splited[i] == 'Среднее' and arg_splited[i+1] != 'специальное':\n",
    "      return 'Среднее'\n",
    "    else:\n",
    "      return 'Неоконченное высшее'\n",
    "hh_data['Образование'] = hh_data['Образование и ВУЗ'].apply(get_education)\n",
    "hh_data.drop(['Образование и ВУЗ'], axis=1, inplace=True)"
   ]
  },
  {
   "cell_type": "markdown",
   "id": "4266f0b6-1646-492a-88b4-2f6a46502135",
   "metadata": {},
   "source": [
    "2. Теперь нас интересует столбец **\"Пол, возраст\"**. Сейчас он представлен в формате **<Пол , возраст , дата рождения >**. Например:\n",
    "* Мужчина , 39 лет , родился 27 ноября 1979 \n",
    "* Женщина , 21 год , родилась 13 января 2000\n",
    "Как вы понимаете, нам необходимо выделить каждый параметр в отдельный столбец.\n",
    "\n",
    "Создайте два новых признака **\"Пол\"** и **\"Возраст\"**. При этом важно учесть:\n",
    "* Признак пола должен иметь 2 уникальных строковых значения: 'М' - мужчина, 'Ж' - женщина. \n",
    "* Признак возраста должен быть представлен целыми числами.\n",
    "\n",
    "Выполните преобразование, ответьте на контрольные вопросы и удалите признак **\"Пол, возраст\"** из таблицы.\n",
    "\n",
    "*Совет: обратите внимание на структуру текста в столбце, в части на то, как разделены параметры пола, возраста и даты рождения между собой - символом ' , '. \n",
    "Гарантируется, что структура одинакова для всех строк в таблице. Вы можете воспользоваться этим.*\n"
   ]
  },
  {
   "cell_type": "code",
   "execution_count": 14,
   "id": "0c44b350-72eb-4d65-8b54-a1fc449ba9fd",
   "metadata": {},
   "outputs": [],
   "source": [
    "#ваш код здесь\n",
    "# Функция преобразования по гендерному типу\n",
    "def get_gender(arg):\n",
    "    arg = \",\".join(arg.split(\",\")[:1])\n",
    "    if \"Мужчина\" in arg:\n",
    "        return \"М\"\n",
    "    else:\n",
    "        return \"Ж\"\n",
    "hh_data['Пол'] = hh_data['Пол, возраст'].apply(get_gender)\n",
    "\n",
    "# Функция выделения возраста \n",
    "def get_age(arg):\n",
    "    arg = arg.split(\" \")\n",
    "    age = int(arg[3])\n",
    "    return age\n",
    "hh_data['Возраст'] = hh_data['Пол, возраст'].apply(get_age)\n",
    "hh_data.drop(['Пол, возраст'], axis=1, inplace=True)"
   ]
  },
  {
   "cell_type": "markdown",
   "id": "635c4d5d-f323-4c66-b428-50a088120aa0",
   "metadata": {},
   "source": [
    "3. Следующим этапом преобразуем признак **\"Опыт работы\"**. Его текущий формат - это: **<Опыт работы: n лет m месяцев, периоды работы в различных компаниях…>**. \n",
    "\n",
    "Из столбца нам необходимо выделить общий опыт работы соискателя в месяцах, новый признак назовем \"Опыт работы (месяц)\"\n",
    "\n",
    "Для начала обсудим условия решения задачи:\n",
    "* Во-первых, в данном признаке есть пропуски. Условимся, что если мы встречаем пропуск, оставляем его как есть (функция-преобразование возвращает NaN)\n",
    "* Во-вторых, в данном признаке есть скрытые пропуски. Для некоторых соискателей в столбце стоит значения \"Не указано\". Их тоже обозначим как NaN (функция-преобразование возвращает NaN)\n",
    "* В-третьих, нас не интересует информация, которая описывается после указания опыта работы (периоды работы в различных компаниях)\n",
    "* В-четвертых, у нас есть проблема: опыт работы может быть представлен только в годах или только месяцах. Например, можно встретить следующие варианты:\n",
    "    * Опыт работы 3 года 2 месяца…\n",
    "    * Опыт работы 4 года…\n",
    "    * Опыт работы 11 месяцев…\n",
    "    * Учитывайте эту особенность в вашем коде\n",
    "\n",
    "Учитывайте эту особенность в вашем коде\n",
    "\n",
    "В результате преобразования у вас должен получиться столбец, содержащий информацию о том, сколько месяцев проработал соискатель.\n",
    "Выполните преобразование, ответьте на контрольные вопросы и удалите столбец **\"Опыт работы\"** из таблицы.\n"
   ]
  },
  {
   "cell_type": "code",
   "execution_count": 15,
   "id": "603cdbe4-0ec3-4106-8eaf-c73fcdd29165",
   "metadata": {},
   "outputs": [],
   "source": [
    "#ваш код здесь\n",
    "# Функция преобразования опыта работы\n",
    "def get_experience(arg):\n",
    "    if arg == 'Не указано' or arg is np.nan:\n",
    "        return None\n",
    "    arg = arg.split()[:7]\n",
    "    year = 0\n",
    "    month = 0\n",
    "    for index, item in enumerate(arg):\n",
    "      if item in ['год', 'года', 'лет']:\n",
    "        year = int(arg[index-1])\n",
    "      if item in ['месяц', 'месяца', 'месяцев']:\n",
    "        month = int(arg[index-1])\n",
    "    return year*12 + month\n",
    "hh_data['Опыт работы (месяц)'] = hh_data['Опыт работы'].apply(get_experience)\n",
    "hh_data.drop(['Опыт работы'], axis=1, inplace=True)"
   ]
  },
  {
   "cell_type": "markdown",
   "id": "f3fdaec9-5fd3-4260-9cf5-1d7406b628a5",
   "metadata": {},
   "source": [
    "4. Хорошо идем! Следующий на очереди признак \"Город, переезд, командировки\". Информация в нем представлена в следующем виде: **<Город , (метро) , готовность к переезду (города для переезда) , готовность к командировкам>**. В скобках указаны необязательные параметры строки. Например, можно встретить следующие варианты:\n",
    "\n",
    "* Москва , не готов к переезду , готов к командировкам\n",
    "* Москва , м. Беломорская , не готов к переезду, не готов к командировкам\n",
    "* Воронеж , готов к переезду (Сочи, Москва, Санкт-Петербург) , готов к командировкам\n",
    "\n",
    "Создадим отдельные признаки **\"Город\"**, **\"Готовность к переезду\"**, **\"Готовность к командировкам\"**. При этом важно учесть:\n",
    "\n",
    "* Признак **\"Город\"** должен содержать только 4 категории: \"Москва\", \"Санкт-Петербург\" и \"город-миллионник\" (их список ниже), остальные обозначьте как \"другие\".\n",
    "\n",
    "    Список городов-миллионников:\n",
    "    \n",
    "   <code>million_cities = ['Новосибирск', 'Екатеринбург','Нижний Новгород','Казань', 'Челябинск','Омск', 'Самара', 'Ростов-на-Дону', 'Уфа', 'Красноярск', 'Пермь', 'Воронеж','Волгоград']\n",
    "    </code>\n",
    "    Инфорация о метро, рядом с которым проживает соискатель нас не интересует.\n",
    "* Признак **\"Готовность к переезду\"** должен иметь два возможных варианта: True или False. Обратите внимание, что возможны несколько вариантов описания готовности к переезду в признаке \"Город, переезд, командировки\". Например:\n",
    "    * … , готов к переезду , …\n",
    "    * … , не готова к переезду , …\n",
    "    * … , готова к переезду (Москва, Санкт-Петербург, Ростов-на-Дону)\n",
    "    * … , хочу переехать (США) , …\n",
    "    \n",
    "    Нас интересует только сам факт возможности или желания переезда.\n",
    "* Признак **\"Готовность к командировкам\"** должен иметь два возможных варианта: True или False. Обратите внимание, что возможны несколько вариантов описания готовности к командировкам в признаке \"Город, переезд, командировки\". Например:\n",
    "    * … , готов к командировкам , … \n",
    "    * … , готова к редким командировкам , …\n",
    "    * … , не готов к командировкам , …\n",
    "    \n",
    "    Нас интересует только сам факт готовности к командировке.\n",
    "    \n",
    "    Еще один важный факт: при выгрузки данных у некоторых соискателей \"потерялась\" информация о готовности к командировкам. Давайте по умолчанию будем считать, что такие соискатели не готовы к командировкам.\n",
    "    \n",
    "Выполните преобразования и удалите столбец **\"Город, переезд, командировки\"** из таблицы.\n",
    "\n",
    "*Совет: обратите внимание на то, что структура текста может меняться в зависимости от указания ближайшего метро. Учите это, если будете использовать порядок слов в своей программе.*\n"
   ]
  },
  {
   "cell_type": "code",
   "execution_count": 6,
   "id": "1ea710ec-871b-431e-9462-c7d0fd87011b",
   "metadata": {},
   "outputs": [],
   "source": [
    "#ваш код здесь\n",
    "# Функция создания нового признака 'город'\n",
    "def get_city(arg):\n",
    "  million_cities = ['Новосибирск', 'Екатеринбург', 'Нижний Новгород', 'Казань', 'Челябинск', 'Омск', 'Самара', 'Ростов-на-Дону', 'Уфа', 'Красноярск', 'Пермь', 'Воронеж', 'Волгоград' ]\n",
    "  arg = arg.split()[0]\n",
    "  if arg == 'Москва':\n",
    "    return 'Москва'\n",
    "  if arg == 'Санкт-Петербург':\n",
    "    return 'Санкт-Петербург'\n",
    "  if arg in million_cities:\n",
    "    return 'город-миллионник'\n",
    "  else:\n",
    "    return 'другие'\n",
    "hh_data['Город'] = hh_data['Город, переезд, командировки'].apply(get_city)\n",
    "\n",
    "# Функция создания нового признака 'готовность к переезду'\n",
    "def readiness_to_move(arg):\n",
    "    if ('переезд') in arg:\n",
    "      if ('не готов к переезду' in arg) or ('не готова к переезду' in arg):\n",
    "          return False\n",
    "      else: \n",
    "        return True\n",
    "    else: \n",
    "      return True            \n",
    "hh_data['Готовность к переезду'] = hh_data['Город, переезд, командировки'].apply(readiness_to_move)\n",
    "\n",
    "# Функция создания нового признака 'готовность к командировкам'\n",
    "def willingness_to_travel(arg):\n",
    "  if 'командировка' in arg:\n",
    "    if ('не готов к командировкам' in arg) or ('не готова к командировкам' in arg): \n",
    "      return False\n",
    "    else: \n",
    "      return True\n",
    "  else: \n",
    "    return False            \n",
    "hh_data['Готовность к командировкам'] = hh_data['Город, переезд, командировки'].apply(willingness_to_travel)\n",
    "hh_data.drop(['Город, переезд, командировки'], axis=1, inplace=True)"
   ]
  },
  {
   "cell_type": "markdown",
   "id": "0136ffee-0ead-4a6b-b608-61d1c753a438",
   "metadata": {},
   "source": [
    "5. Рассмотрим поближе признаки **\"Занятость\"** и **\"График\"**. Сейчас признаки представляют собой набор категорий желаемой занятости (полная занятость, частичная занятость, проектная работа, волонтерство, стажировка) и желаемого графика работы (полный день, сменный график, гибкий график, удаленная работа, вахтовый метод).\n",
    "На сайте hh.ru соискатель может указывать различные комбинации данных категорий, например:\n",
    "* полная занятость, частичная занятость\n",
    "* частичная занятость, проектная работа, волонтерство\n",
    "* полный день, удаленная работа\n",
    "* вахтовый метод, гибкий график, удаленная работа, полная занятость\n",
    "\n",
    "Такой вариант признаков имеет множество различных комбинаций, а значит множество уникальных значений, что мешает анализу. Нужно это исправить!\n",
    "\n",
    "Давайте создадим признаки-мигалки для каждой категории: если категория присутствует в списке желаемых соискателем, то в столбце на месте строки рассматриваемого соискателя ставится True, иначе - False.\n",
    "\n",
    "Такой метод преобразования категориальных признаков называется One Hot Encoding и его схема представлена на рисунке ниже:\n",
    "<img src=https://raw.githubusercontent.com/AndreyRysistov/DatasetsForPandas/main/ohe.jpg>\n",
    "Выполните данное преобразование для признаков \"Занятость\" и \"График\", ответьте на контрольные вопросы, после чего удалите их из таблицы"
   ]
  },
  {
   "cell_type": "code",
   "execution_count": 18,
   "id": "5b3a8e79-f7ab-4008-b767-12aea3a205ea",
   "metadata": {},
   "outputs": [],
   "source": [
    "#ваш код здесь\n",
    "# Преобразование признака 'Занятость'\n",
    "hh_data['Полная занятость'] = hh_data['Занятость'].apply(lambda x: True if 'полная занятость' in x else False)\n",
    "hh_data['Частичная занятость'] = hh_data['Занятость'].apply(lambda x: True if 'частичная занятость' in x else False)\n",
    "hh_data['Проектная работа'] = hh_data['Занятость'].apply(lambda x: True if 'проектная работа' in x else False)\n",
    "hh_data['Волонтерство'] = hh_data['Занятость'].apply(lambda x: True if 'волонтерство' in x else False)\n",
    "hh_data['Стажировка'] = hh_data['Занятость'].apply(lambda x: True if 'стажировка' in x else False)\n",
    "# Преобразование признака 'График'\n",
    "hh_data['Полный день'] = hh_data['График'].apply(lambda x: True if 'полный день' in x else False)\n",
    "hh_data['Сменный график'] = hh_data['График'].apply(lambda x: True if 'сменный график' in x else False)\n",
    "hh_data['Гибкий график'] = hh_data['График'].apply(lambda x: True if 'гибкий график' in x else False)\n",
    "hh_data['Удалённая работа'] = hh_data['График'].apply(lambda x: True if 'удалённая работа' in x else False)\n",
    "hh_data['Вахтовый метод'] = hh_data['График'].apply(lambda x: True if 'вахтовый метод' in x else False)\n",
    "hh_data.drop(['Занятость'], axis=1, inplace=True)\n",
    "hh_data.drop(['График'], axis=1, inplace=True)"
   ]
  },
  {
   "cell_type": "markdown",
   "id": "344f123c-b63b-43dd-a8a4-809c1f1bb443",
   "metadata": {},
   "source": [
    "6. (2 балла) Наконец, мы добрались до самого главного и самого важного - признака заработной платы **\"ЗП\"**. \n",
    "В чем наша беда? В том, что помимо желаемой заработной платы соискатель указывает валюту, в которой он бы хотел ее получать, например:\n",
    "* 30000 руб.\n",
    "* 50000 грн.\n",
    "* 550 USD\n",
    "\n",
    "Нам бы хотелось видеть заработную плату в единой валюте, например, в рублях. Возникает вопрос, а где взять курс валют по отношению к рублю?\n",
    "\n",
    "На самом деле язык Python имеет в арсенале огромное количество возможностей получения данной информации, от обращения к API Центробанка, до использования специальных библиотек, например pycbrf. Однако, это не тема нашего проекта.\n",
    "\n",
    "Поэтому мы пойдем в лоб: обратимся к специальным интернет-ресурсам для получения данных о курсе в виде текстовых файлов. Например, MDF.RU, данный ресурс позволяет удобно экспортировать данные о курсах различных валют и акций за указанные периоды в виде csv файлов. Мы уже сделали выгрузку курсов валют, которые встречаются в наших данных за период с 29.12.2017 по 05.12.2019. Скачать ее вы можете **на платформе**\n",
    "\n",
    "Создайте новый DataFrame из полученного файла. В полученной таблице нас будут интересовать столбцы:\n",
    "* \"currency\" - наименование валюты в ISO кодировке,\n",
    "* \"date\" - дата, \n",
    "* \"proportion\" - пропорция, \n",
    "* \"close\" - цена закрытия (последний зафиксированный курс валюты на указанный день).\n",
    "\n",
    "\n",
    "Перед вами таблица соответствия наименований иностранных валют в наших данных и их общепринятых сокращений, которые представлены в нашем файле с курсами валют. Пропорция - это число, за сколько единиц валюты указан курс в таблице с курсами. Например, для казахстанского тенге курс на 20.08.2019 составляет 17.197 руб. за 100 тенге, тогда итоговый курс равен - 17.197 / 100 = 0.17197 руб за 1 тенге.\n",
    "Воспользуйтесь этой информацией в ваших преобразованиях.\n",
    "\n",
    "<img src=https://raw.githubusercontent.com/AndreyRysistov/DatasetsForPandas/main/table.jpg>\n",
    "\n",
    "\n",
    "Осталось только понять, откуда брать дату, по которой определяется курс? А вот же она - в признаке **\"Обновление резюме\"**, в нем содержится дата и время, когда соискатель выложил текущий вариант своего резюме. Нас интересует только дата, по ней бы и будем сопоставлять курсы валют.\n",
    "\n",
    "Теперь у нас есть вся необходимая информация для того, чтобы создать признак \"ЗП (руб)\" - заработная плата в рублях.\n",
    "\n",
    "После ответа на контрольные вопросы удалите исходный столбец заработной платы \"ЗП\" и все промежуточные столбцы, если вы их создавали."
   ]
  },
  {
   "cell_type": "markdown",
   "id": "6d794257-61f5-4124-956b-67b92b9391a7",
   "metadata": {
    "tags": []
   },
   "source": [
    "Итак, давайте обсудим возможный алгоритм преобразования: \n",
    "1. Перевести признак \"Обновление резюме\" из таблицы с резюме в формат datetime и достать из него дату. В тот же формат привести признак \"date\" из таблицы с валютами.\n",
    "2. Выделить из столбца \"ЗП\" сумму желаемой заработной платы и наименование валюты, в которой она исчисляется. Наименование валюты перевести в стандарт ISO согласно с таблицей выше.\n",
    "3. Присоединить к таблице с резюме таблицу с курсами по столбцам с датой и названием валюты (подумайте, какой тип объединения надо выбрать, чтобы в таблице с резюме сохранились данные о заработной плате, изначально представленной в рублях). Значение close для рубля заполнить единицей 1 (курс рубля самого к себе)\n",
    "4. Умножить сумму желаемой заработной платы на присоединенный курс валюты (close) и разделить на пропорцию (обратите внимание на пропуски после объединения в этих столбцах), результат занести в новый столбец \"ЗП (руб)\".\n"
   ]
  },
  {
   "cell_type": "code",
   "execution_count": 19,
   "id": "e91f87ed-e25c-4f96-9f92-b642e8c0b4fa",
   "metadata": {},
   "outputs": [
    {
     "name": "stdout",
     "output_type": "stream",
     "text": [
      "59.019\n"
     ]
    }
   ],
   "source": [
    "#ваш код здесь\n",
    "# извлечение данных по обмену валюты\n",
    "money_info = pd.read_csv('/Users/aleksejvolkov/IDE//ExchangeRates.csv', sep=',')\n",
    "# перевод даты в формат datetime в данных money_info\n",
    "money_info['date'] = pd.to_datetime(money_info['date'])\n",
    "# Функция, приведения соответствия данных таблицы к наименованию иностранной валюты\n",
    "def rename_currency(arg):\n",
    "    \"\"\"Функция, приведения соответствия данных таблицы к наименованию иностранной валюты\n",
    "    Args:\n",
    "        arg ([string]): строка, содержащая наименование валюты в данных\n",
    "    Returns:\n",
    "        [string]: наименование валюты в ISO кодировке\n",
    "    \"\"\"\n",
    "    # словарь валюты\n",
    "    currency_dict = {\n",
    "        'грн.': 'UAH', 'USD': 'USD',\n",
    "        'EUR': 'EUR', 'бел.руб.': 'BYN',\n",
    "        'KGS': 'KGS', 'сум': 'UZS',\n",
    "        'AZN': 'AZN', 'KZT': 'KZT', 'руб.': 'RUB'\n",
    "    }\n",
    "    current_currency = arg.split(' ')[0]  # разделение строки по пробелам\n",
    "    if current_currency in currency_dict: # приведение соответствия валюты в ISO кодировке\n",
    "        return currency_dict[current_currency]\n",
    "# перевод даты в таблице с резюме в формат datetime в данных\n",
    "hh_data['Обновление резюме'] = pd.to_datetime(hh_data['Обновление резюме']).dt.date\n",
    "hh_data['Обновление резюме'] = pd.to_datetime(hh_data['Обновление резюме'])\n",
    "# выделение из столбца желаемaя зп - сумму и валюту\n",
    "hh_data['Сумма'] = hh_data['ЗП'].apply(lambda x: x.split()[0]).astype(float)\n",
    "hh_data['Валюта'] = hh_data['ЗП'].apply(lambda x: x.split()[1])\n",
    "hh_data['Валюта'] = hh_data['Валюта'].apply(rename_currency)\n",
    "# объединение двух таблиц \n",
    "hh_data_merged = hh_data.merge(\n",
    "    money_info,\n",
    "    how='left',\n",
    "    left_on=['Валюта', 'Обновление резюме'],\n",
    "    right_on=['currency', 'date']\n",
    ")\n",
    "# заполнение столбца close и proportion значением 1.0 для рубля\n",
    "mask1 = hh_data_merged['Валюта'] == 'RUB'\n",
    "hh_data_merged.loc[mask1, 'close'] = 1.0 \n",
    "hh_data_merged.loc[mask1, 'proportion'] = 1.0   \n",
    "#Создание нового признакаа и удаление ненужных признаков\n",
    "hh_data_merged['ЗП (руб)'] = hh_data_merged['close']*hh_data['Сумма']/hh_data_merged['proportion']\n",
    "hh_data = hh_data_merged.drop(['ЗП', 'Сумма','Валюта','currency','per','date','time','close','vol','proportion'], axis=1)\n",
    "# подсчет желаемой медианной заработной платы соискателей (задание 3.6)\n",
    "print(hh_data['ЗП (руб)'].median()/1000)\n",
    "hh_data['Обновление резюме'] = hh_data['Обновление резюме'].astype(object)"
   ]
  },
  {
   "cell_type": "markdown",
   "id": "7ea20ab6-04a7-40a0-adec-443a0e5a42c3",
   "metadata": {},
   "source": [
    "# Исследование зависимостей в данных"
   ]
  },
  {
   "cell_type": "markdown",
   "id": "968aed80-74ef-4ffb-b5bf-c65b84e9caea",
   "metadata": {},
   "source": [
    "1. Постройте распределение признака **\"Возраст\"**. Опишите распределение, отвечая на следующие вопросы: чему равна мода распределения, каковы предельные значения признака, в каком примерном интервале находится возраст большинства соискателей? Есть ли аномалии для признака возраста, какие значения вы бы причислили к их числу?\n",
    "*Совет: постройте гистограмму и коробчатую диаграмму рядом.*"
   ]
  },
  {
   "cell_type": "code",
   "execution_count": 21,
   "id": "f2d62796-d400-4ec1-a675-88112739a50e",
   "metadata": {},
   "outputs": [
    {
     "data": {
      "text/plain": [
       "Text(0.5, 0, 'Распределение Возраста')"
      ]
     },
     "execution_count": 21,
     "metadata": {},
     "output_type": "execute_result"
    },
    {
     "data": {
      "image/png": "[encoded data removed]",
      "text/plain": [
       "<Figure size 1800x700 with 2 Axes>"
      ]
     },
     "metadata": {},
     "output_type": "display_data"
    }
   ],
   "source": [
    "# ваш код здесь\n",
    "fig, axes = plt.subplots(nrows=1, ncols=2, figsize=(18, 7))\n",
    "histplot = sns.histplot(\n",
    "    data=hh_data, \n",
    "    x='Возраст', \n",
    "    bins=30,\n",
    "    ax=axes[0],\n",
    ")\n",
    "histplot.set_title('Распределение Возраста (гистограмма)', fontsize=14)\n",
    "histplot.set_xlabel('Возраст')\n",
    "histplot.set_ylabel('Число объектов');\n",
    "\n",
    "boxplot = sns.boxplot(\n",
    "    data=hh_data,\n",
    "    x='Возраст',\n",
    "    color='green',\n",
    "    ax=axes[1]\n",
    ");\n",
    "boxplot.set_title('Распределение Возраста (коробчатая диаграмма)', fontsize=14)\n",
    "boxplot.set_xlabel('Распределение Возраста')"
   ]
  },
  {
   "cell_type": "markdown",
   "id": "88967466-5070-4bea-9e71-b3efefdc6e4a",
   "metadata": {},
   "source": [
    "ваши выводы по графику здесь"
   ]
  },
  {
   "cell_type": "markdown",
   "id": "68377cfc-b378-43dc-ab7d-1195abf2c515",
   "metadata": {},
   "source": [
    "2. Постройте распределение признака **\"Опыт работы (месяц)\"**. Опишите данное распределение, отвечая на следующие вопросы: чему равна мода распределения, каковы предельные значения признака, в каком примерном интервале находится опыт работы большинства соискателей? Есть ли аномалии для признака опыта работы, какие значения вы бы причислили к их числу?\n",
    "*Совет: постройте гистограмму и коробчатую диаграмму рядом.*"
   ]
  },
  {
   "cell_type": "code",
   "execution_count": null,
   "id": "dd7df27a-e3e8-412e-a21a-5d389b71e891",
   "metadata": {},
   "outputs": [],
   "source": [
    "# ваш код здесь"
   ]
  },
  {
   "cell_type": "markdown",
   "id": "7305c34b-089d-4986-be9f-5fa1c0ee281c",
   "metadata": {},
   "source": [
    "ваши выводы здесь"
   ]
  },
  {
   "cell_type": "markdown",
   "id": "f2fe0acb-ab1a-4e15-9326-2560e22d73c1",
   "metadata": {},
   "source": [
    "3. Постройте распределение признака **\"ЗП (руб)\"**. Опишите данное распределение, отвечая на следующие вопросы: каковы предельные значения признака, в каком примерном интервале находится заработная плата большинства соискателей? Есть ли аномалии для признака возраста? Обратите внимание на гигантские размеры желаемой заработной платы.\n",
    "*Совет: постройте гистограмму и коробчатую диаграмму рядом.*\n"
   ]
  },
  {
   "cell_type": "code",
   "execution_count": null,
   "id": "6271f8ad-bd2e-4196-ae4a-5b39c4c1010e",
   "metadata": {},
   "outputs": [],
   "source": [
    "# ваш код здесь"
   ]
  },
  {
   "cell_type": "markdown",
   "id": "6c39ca13-225e-48f7-a85c-ab07a6cc852a",
   "metadata": {},
   "source": [
    "ваши выводы здесь"
   ]
  },
  {
   "cell_type": "markdown",
   "id": "eab2206d-d95b-468b-8e5f-34381abf0ce7",
   "metadata": {},
   "source": [
    "4. Постройте диаграмму, которая показывает зависимость **медианной** желаемой заработной платы (**\"ЗП (руб)\"**) от уровня образования (**\"Образование\"**). Используйте для диаграммы данные о резюме, где желаемая заработная плата меньше 1 млн рублей.\n",
    "*Сделайте выводы по представленной диаграмме: для каких уровней образования наблюдаются наибольшие и наименьшие уровни желаемой заработной платы? Как вы считаете, важен ли признак уровня образования при прогнозировании заработной платы?*"
   ]
  },
  {
   "cell_type": "code",
   "execution_count": null,
   "id": "80defb23-bfb1-4a18-8be6-bf36aa7165d5",
   "metadata": {},
   "outputs": [],
   "source": [
    "# ваш код здесь"
   ]
  },
  {
   "cell_type": "markdown",
   "id": "dc463319-3f85-47dd-b66e-aecb0be0c76f",
   "metadata": {},
   "source": [
    "ваши выводы здесь"
   ]
  },
  {
   "cell_type": "markdown",
   "id": "0112af31-f6b0-4e3b-82ab-71296e752e5e",
   "metadata": {},
   "source": [
    "5. Постройте диаграмму, которая показывает распределение желаемой заработной платы (**\"ЗП (руб)\"**) в зависимости от города (**\"Город\"**). Используйте для диаграммы данные о резюме, где желая заработная плата меньше 1 млн рублей.\n",
    "*Сделайте выводы по полученной диаграмме: как соотносятся медианные уровни желаемой заработной платы и их размах в городах? Как вы считаете, важен ли признак города при прогнозировании заработной платы?*"
   ]
  },
  {
   "cell_type": "code",
   "execution_count": null,
   "id": "973b0cfc-a972-470a-8b4a-68744ef220c4",
   "metadata": {},
   "outputs": [],
   "source": [
    "# ваш код здесь"
   ]
  },
  {
   "cell_type": "markdown",
   "id": "2710ce73-2e81-4e38-b52f-833cd14ba47a",
   "metadata": {
    "tags": []
   },
   "source": [
    "ваши выводы здесь"
   ]
  },
  {
   "cell_type": "markdown",
   "id": "3bfcfdaf-755d-4d2b-8ed8-326201dc07ab",
   "metadata": {},
   "source": [
    "6. Постройте **многоуровневую столбчатую диаграмму**, которая показывает зависимость медианной заработной платы (**\"ЗП (руб)\"**) от признаков **\"Готовность к переезду\"** и **\"Готовность к командировкам\"**. Проанализируйте график, сравнив уровень заработной платы в категориях."
   ]
  },
  {
   "cell_type": "code",
   "execution_count": null,
   "id": "ad3f270f-2991-47eb-929b-e8f88a55b0d1",
   "metadata": {},
   "outputs": [],
   "source": [
    "# ваш код здесь"
   ]
  },
  {
   "cell_type": "code",
   "execution_count": null,
   "id": "efcf512a-4918-4c3f-9357-b3035f9e5f5f",
   "metadata": {},
   "outputs": [],
   "source": [
    "ваши выводы здесь"
   ]
  },
  {
   "cell_type": "markdown",
   "id": "7b02bb86-0546-40fb-94a4-242f050a5c57",
   "metadata": {},
   "source": [
    "7. Постройте сводную таблицу, иллюстрирующую зависимость **медианной** желаемой заработной платы от возраста (**\"Возраст\"**) и образования (**\"Образование\"**). На полученной сводной таблице постройте **тепловую карту**. Проанализируйте тепловую карту, сравнив показатели внутри групп."
   ]
  },
  {
   "cell_type": "code",
   "execution_count": null,
   "id": "5a0e32a4-e68a-4365-8a39-2fe24c542c36",
   "metadata": {},
   "outputs": [],
   "source": [
    "# ваш код здесь"
   ]
  },
  {
   "cell_type": "markdown",
   "id": "7aade1c2-16a0-418c-8427-ad93927c7705",
   "metadata": {},
   "source": [
    "ваши выводы здесь"
   ]
  },
  {
   "cell_type": "markdown",
   "id": "d0247088-9003-455b-a591-a44650f487c3",
   "metadata": {},
   "source": [
    "8. Постройте **диаграмму рассеяния**, показывающую зависимость опыта работы (**\"Опыт работы (месяц)\"**) от возраста (**\"Возраст\"**). Опыт работы переведите из месяцев в года, чтобы признаки были в едином масштабе. Постройте на графике дополнительно прямую, проходящую через точки (0, 0) и (100, 100). Данная прямая соответствует значениям, когда опыт работы равен возрасту человека. Точки, лежащие на этой прямой и выше нее - аномалии в наших данных (опыт работы больше либо равен возрасту соискателя)"
   ]
  },
  {
   "cell_type": "code",
   "execution_count": null,
   "id": "a4143e50-b900-4ec8-9ae9-fc3ec3347287",
   "metadata": {},
   "outputs": [],
   "source": [
    "# ваш код здесь"
   ]
  },
  {
   "cell_type": "markdown",
   "id": "6f9218ff-52c7-4742-b328-4db5d4da7262",
   "metadata": {},
   "source": [
    "ваши выводы здесь"
   ]
  },
  {
   "cell_type": "markdown",
   "id": "0cc3b0d5-b551-424d-9956-8da18fce17a1",
   "metadata": {},
   "source": [
    "**Дополнительные баллы**\n",
    "\n",
    "Для получения 2 дополнительных баллов по разведывательному анализу постройте еще два любых содержательных графика или диаграммы, которые помогут проиллюстрировать влияние признаков/взаимосвязь между признаками/распределения признаков. Приведите выводы по ним. Желательно, чтобы в анализе участвовали признаки, которые мы создавали ранее в разделе \"Преобразование данных\".\n"
   ]
  },
  {
   "cell_type": "code",
   "execution_count": null,
   "id": "e273ec66-b8df-41e5-9b99-bdab93dddd85",
   "metadata": {},
   "outputs": [],
   "source": [
    "# ваш код здесь"
   ]
  },
  {
   "cell_type": "markdown",
   "id": "04966e40-3bc3-4dc8-9ba2-e80580ce3abc",
   "metadata": {},
   "source": [
    "ваши выводы здесь"
   ]
  },
  {
   "cell_type": "markdown",
   "id": "b1ef156a-efcb-49ce-bb23-90763e7f35b2",
   "metadata": {
    "tags": []
   },
   "source": [
    "# Очистка данных"
   ]
  },
  {
   "cell_type": "markdown",
   "id": "b9cd50a0-992d-4988-8463-2b2b1c4629b4",
   "metadata": {},
   "source": [
    "1. Начнем с дубликатов в наших данных. Найдите **полные дубликаты** в таблице с резюме и удалите их. "
   ]
  },
  {
   "cell_type": "code",
   "execution_count": null,
   "id": "54ab0e50-c0f1-47cc-a54b-bc5c8bc363f9",
   "metadata": {},
   "outputs": [],
   "source": [
    "# ваш код здесь"
   ]
  },
  {
   "cell_type": "markdown",
   "id": "4dea20cb-a36b-474a-a0b9-e08e8e3857a5",
   "metadata": {},
   "source": [
    "2. Займемся пропусками. Выведите информацию **о числе пропусков** в столбцах. "
   ]
  },
  {
   "cell_type": "code",
   "execution_count": null,
   "id": "9c61b3c0-bb66-46c9-ae1e-81d3f5752b4a",
   "metadata": {},
   "outputs": [],
   "source": [
    "# ваш код здесь"
   ]
  },
  {
   "cell_type": "markdown",
   "id": "eedceb80-c5ca-480e-b27a-278dfb8b4438",
   "metadata": {},
   "source": [
    "3. Итак, у нас есть пропуски в 3ех столбцах: **\"Опыт работы (месяц)\"**, **\"Последнее/нынешнее место работы\"**, **\"Последняя/нынешняя должность\"**. Поступим следующим образом: удалите строки, где есть пропуск в столбцах с местом работы и должностью. Пропуски в столбце с опытом работы заполните **медианным** значением."
   ]
  },
  {
   "cell_type": "code",
   "execution_count": null,
   "id": "69621713-0cc5-4f1b-a1d7-bb144fa6148c",
   "metadata": {},
   "outputs": [],
   "source": [
    "# ваш код здесь"
   ]
  },
  {
   "cell_type": "markdown",
   "id": "1be1e9c6-37cf-4a5f-bfeb-04cab799dc80",
   "metadata": {},
   "source": [
    "4. Мы добрались до ликвидации выбросов. Сначала очистим данные вручную. Удалите резюме, в которых указана заработная плата либо выше 1 млн. рублей, либо ниже 1 тыс. рублей."
   ]
  },
  {
   "cell_type": "code",
   "execution_count": null,
   "id": "0036a355-9ccf-4564-8b01-73d8194297e7",
   "metadata": {},
   "outputs": [],
   "source": [
    "# ваш код здесь"
   ]
  },
  {
   "cell_type": "markdown",
   "id": "ec3c8db7-fa21-4a41-a994-1af63742a642",
   "metadata": {},
   "source": [
    "5. В процессе разведывательного анализа мы обнаружили резюме, в которых **опыт работы в годах превышал возраст соискателя**. Найдите такие резюме и удалите их из данных\n"
   ]
  },
  {
   "cell_type": "code",
   "execution_count": 12,
   "id": "949132bc-d5b6-4611-8218-0b9a504d74f4",
   "metadata": {},
   "outputs": [],
   "source": [
    "# ваш код здесь"
   ]
  },
  {
   "cell_type": "markdown",
   "id": "1041c17a-ca8f-4543-a0ca-32778914fb00",
   "metadata": {},
   "source": [
    "6. В результате анализа мы обнаружили потенциальные выбросы в признаке **\"Возраст\"**. Это оказались резюме людей чересчур преклонного возраста для поиска работы. Попробуйте построить распределение признака в **логарифмическом масштабе**. Добавьте к графику линии, отображающие **среднее и границы интервала метода трех сигм**. Напомним, сделать это можно с помощью метода axvline. Например, для построение линии среднего будет иметь вид:\n",
    "\n",
    "`histplot.axvline(log_age.mean(), color='k', lw=2)`\n",
    "\n",
    "В какую сторону асимметрично логарифмическое распределение? Напишите об этом в комментарии к графику.\n",
    "Найдите выбросы с помощью метода z-отклонения и удалите их из данных, используйте логарифмический масштаб. Давайте сделаем послабление на **1 сигму** (возьмите 4 сигмы) в **правую сторону**.\n",
    "\n",
    "Выведите таблицу с полученными выбросами и оцените, с каким возрастом соискатели попадают под категорию выбросов?"
   ]
  },
  {
   "cell_type": "code",
   "execution_count": null,
   "id": "6a743d39-5204-48d3-8271-b9f88e68d40e",
   "metadata": {},
   "outputs": [],
   "source": [
    "# ваш код здесь"
   ]
  },
  {
   "cell_type": "markdown",
   "id": "6a7892b4-4113-4746-adce-18aa2844f18e",
   "metadata": {},
   "source": [
    "ваш коммментарий здесь"
   ]
  }
 ],
 "metadata": {
  "kernelspec": {
   "display_name": "Python 3 (ipykernel)",
   "language": "python",
   "name": "python3"
  },
  "language_info": {
   "codemirror_mode": {
    "name": "ipython",
    "version": 3
   },
   "file_extension": ".py",
   "mimetype": "text/x-python",
   "name": "python",
   "nbconvert_exporter": "python",
   "pygments_lexer": "ipython3",
   "version": "3.10.7"
  }
 },
 "nbformat": 4,
 "nbformat_minor": 5
}
